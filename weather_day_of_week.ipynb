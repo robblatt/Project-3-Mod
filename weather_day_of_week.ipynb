{
 "cells": [
  {
   "cell_type": "code",
   "execution_count": 23,
   "metadata": {},
   "outputs": [],
   "source": [
    "import pandas as pd\n",
    "import datetime\n",
    "import numpy as np\n",
    "from scipy import stats\n",
    "\n",
    "import seaborn as sns\n",
    "sns.set_style('whitegrid')\n",
    "import matplotlib.pyplot as plt\n",
    "%matplotlib inline "
   ]
  },
  {
   "cell_type": "code",
   "execution_count": 7,
   "metadata": {},
   "outputs": [],
   "source": [
    "df = pd.read_csv(\"merge_2.csv\")\n",
    "df.drop('Unnamed: 0', axis=1, inplace = True)"
   ]
  },
  {
   "cell_type": "code",
   "execution_count": 8,
   "metadata": {},
   "outputs": [
    {
     "data": {
      "text/html": [
       "<div>\n",
       "<style scoped>\n",
       "    .dataframe tbody tr th:only-of-type {\n",
       "        vertical-align: middle;\n",
       "    }\n",
       "\n",
       "    .dataframe tbody tr th {\n",
       "        vertical-align: top;\n",
       "    }\n",
       "\n",
       "    .dataframe thead th {\n",
       "        text-align: right;\n",
       "    }\n",
       "</style>\n",
       "<table border=\"1\" class=\"dataframe\">\n",
       "  <thead>\n",
       "    <tr style=\"text-align: right;\">\n",
       "      <th></th>\n",
       "      <th>CAMIS</th>\n",
       "      <th>DBA</th>\n",
       "      <th>BORO</th>\n",
       "      <th>ZIPCODE</th>\n",
       "      <th>PHONE</th>\n",
       "      <th>CUISINE DESCRIPTION</th>\n",
       "      <th>SCORE</th>\n",
       "      <th>GRADE</th>\n",
       "      <th>GRADE DATE</th>\n",
       "      <th>INSPECTION TYPE</th>\n",
       "      <th>inspection_date</th>\n",
       "      <th>ADDRESS</th>\n",
       "      <th>Weather</th>\n",
       "      <th>DAY OF WEEK</th>\n",
       "      <th>weather_binary</th>\n",
       "    </tr>\n",
       "  </thead>\n",
       "  <tbody>\n",
       "    <tr>\n",
       "      <th>0</th>\n",
       "      <td>30075445</td>\n",
       "      <td>MORRIS PARK BAKE SHOP</td>\n",
       "      <td>BRONX</td>\n",
       "      <td>10462.0</td>\n",
       "      <td>7188924968</td>\n",
       "      <td>Bakery</td>\n",
       "      <td>18.0</td>\n",
       "      <td>NaN</td>\n",
       "      <td>NaN</td>\n",
       "      <td>Cycle Inspection / Initial Inspection</td>\n",
       "      <td>2019-05-16</td>\n",
       "      <td>1007 MORRIS PARK AVE</td>\n",
       "      <td>rain</td>\n",
       "      <td>Thursday</td>\n",
       "      <td>1</td>\n",
       "    </tr>\n",
       "    <tr>\n",
       "      <th>1</th>\n",
       "      <td>30075445</td>\n",
       "      <td>MORRIS PARK BAKE SHOP</td>\n",
       "      <td>BRONX</td>\n",
       "      <td>10462.0</td>\n",
       "      <td>7188924968</td>\n",
       "      <td>Bakery</td>\n",
       "      <td>5.0</td>\n",
       "      <td>A</td>\n",
       "      <td>05/11/2018</td>\n",
       "      <td>Cycle Inspection / Initial Inspection</td>\n",
       "      <td>2018-05-11</td>\n",
       "      <td>1007 MORRIS PARK AVE</td>\n",
       "      <td>rain</td>\n",
       "      <td>Friday</td>\n",
       "      <td>1</td>\n",
       "    </tr>\n",
       "    <tr>\n",
       "      <th>2</th>\n",
       "      <td>30112340</td>\n",
       "      <td>WENDY'S</td>\n",
       "      <td>BROOKLYN</td>\n",
       "      <td>11225.0</td>\n",
       "      <td>7182875005</td>\n",
       "      <td>Hamburgers</td>\n",
       "      <td>13.0</td>\n",
       "      <td>A</td>\n",
       "      <td>03/04/2019</td>\n",
       "      <td>Cycle Inspection / Initial Inspection</td>\n",
       "      <td>2019-03-04</td>\n",
       "      <td>469 FLATBUSH AVENUE</td>\n",
       "      <td>snow</td>\n",
       "      <td>Monday</td>\n",
       "      <td>1</td>\n",
       "    </tr>\n",
       "    <tr>\n",
       "      <th>3</th>\n",
       "      <td>30112340</td>\n",
       "      <td>WENDY'S</td>\n",
       "      <td>BROOKLYN</td>\n",
       "      <td>11225.0</td>\n",
       "      <td>7182875005</td>\n",
       "      <td>Hamburgers</td>\n",
       "      <td>12.0</td>\n",
       "      <td>A</td>\n",
       "      <td>03/13/2018</td>\n",
       "      <td>Cycle Inspection / Initial Inspection</td>\n",
       "      <td>2018-03-13</td>\n",
       "      <td>469 FLATBUSH AVENUE</td>\n",
       "      <td>snow</td>\n",
       "      <td>Tuesday</td>\n",
       "      <td>1</td>\n",
       "    </tr>\n",
       "    <tr>\n",
       "      <th>4</th>\n",
       "      <td>30112340</td>\n",
       "      <td>WENDY'S</td>\n",
       "      <td>BROOKLYN</td>\n",
       "      <td>11225.0</td>\n",
       "      <td>7182875005</td>\n",
       "      <td>Hamburgers</td>\n",
       "      <td>10.0</td>\n",
       "      <td>A</td>\n",
       "      <td>10/06/2017</td>\n",
       "      <td>Cycle Inspection / Re-inspection</td>\n",
       "      <td>2017-10-06</td>\n",
       "      <td>469 FLATBUSH AVENUE</td>\n",
       "      <td>rain</td>\n",
       "      <td>Friday</td>\n",
       "      <td>1</td>\n",
       "    </tr>\n",
       "  </tbody>\n",
       "</table>\n",
       "</div>"
      ],
      "text/plain": [
       "      CAMIS                    DBA      BORO  ZIPCODE       PHONE  \\\n",
       "0  30075445  MORRIS PARK BAKE SHOP     BRONX  10462.0  7188924968   \n",
       "1  30075445  MORRIS PARK BAKE SHOP     BRONX  10462.0  7188924968   \n",
       "2  30112340                WENDY'S  BROOKLYN  11225.0  7182875005   \n",
       "3  30112340                WENDY'S  BROOKLYN  11225.0  7182875005   \n",
       "4  30112340                WENDY'S  BROOKLYN  11225.0  7182875005   \n",
       "\n",
       "  CUISINE DESCRIPTION  SCORE GRADE  GRADE DATE  \\\n",
       "0              Bakery   18.0   NaN         NaN   \n",
       "1              Bakery    5.0     A  05/11/2018   \n",
       "2          Hamburgers   13.0     A  03/04/2019   \n",
       "3          Hamburgers   12.0     A  03/13/2018   \n",
       "4          Hamburgers   10.0     A  10/06/2017   \n",
       "\n",
       "                         INSPECTION TYPE inspection_date  \\\n",
       "0  Cycle Inspection / Initial Inspection      2019-05-16   \n",
       "1  Cycle Inspection / Initial Inspection      2018-05-11   \n",
       "2  Cycle Inspection / Initial Inspection      2019-03-04   \n",
       "3  Cycle Inspection / Initial Inspection      2018-03-13   \n",
       "4       Cycle Inspection / Re-inspection      2017-10-06   \n",
       "\n",
       "                ADDRESS Weather DAY OF WEEK  weather_binary  \n",
       "0  1007 MORRIS PARK AVE    rain    Thursday               1  \n",
       "1  1007 MORRIS PARK AVE    rain      Friday               1  \n",
       "2   469 FLATBUSH AVENUE    snow      Monday               1  \n",
       "3   469 FLATBUSH AVENUE    snow     Tuesday               1  \n",
       "4   469 FLATBUSH AVENUE    rain      Friday               1  "
      ]
     },
     "execution_count": 8,
     "metadata": {},
     "output_type": "execute_result"
    }
   ],
   "source": [
    "df.head()"
   ]
  },
  {
   "cell_type": "markdown",
   "metadata": {},
   "source": [
    "## Question 1:\n",
    "### Does bad weather lead to more infractions during a restaurant inspection in NYC?\n",
    "Ho: Precipitation has no effect on inpection score.\n",
    "\n",
    "Ha: Precipitation causes the inspection score to increase. \n"
   ]
  },
  {
   "cell_type": "code",
   "execution_count": 14,
   "metadata": {},
   "outputs": [],
   "source": [
    "#create a new dataframe with score and weather_binary, 1 = precipitation, 0 = no precipitation\n",
    "weather_score = df[['SCORE', 'weather_binary']]\n",
    "#seperate scores on precipitation days and no precipitation days into numpy arrays\n",
    "precip = np.array(weather_score['SCORE'][weather_score['weather_binary']==1])\n",
    "no_precip = np.array(weather_score['SCORE'][weather_score['weather_binary']==0])"
   ]
  },
  {
   "cell_type": "code",
   "execution_count": 58,
   "metadata": {},
   "outputs": [
    {
     "name": "stdout",
     "output_type": "stream",
     "text": [
      "The mean score on days with precipitation is  15.6\n",
      "With a standard deviation of  11.977\n"
     ]
    }
   ],
   "source": [
    "print(\"The mean score on days with precipitation is \", round(precip.mean(), 2))\n",
    "print(\"With a standard deviation of \", round(precip.std(), 3))"
   ]
  },
  {
   "cell_type": "code",
   "execution_count": 59,
   "metadata": {},
   "outputs": [
    {
     "name": "stdout",
     "output_type": "stream",
     "text": [
      "The mean score on days without precipitation is  15.48\n",
      "With a standard deviation of  11.66\n"
     ]
    }
   ],
   "source": [
    "print(\"The mean score on days without precipitation is \", round(no_precip.mean(), 2))\n",
    "print(\"With a standard deviation of \", round(no_precip.std(), 3))"
   ]
  },
  {
   "cell_type": "markdown",
   "metadata": {},
   "source": [
    "### The data appears to be heavily skewed to the right"
   ]
  },
  {
   "cell_type": "code",
   "execution_count": 121,
   "metadata": {},
   "outputs": [
    {
     "data": {
      "image/png": "[encoded data removed]",
      "text/plain": [
       "<Figure size 864x576 with 1 Axes>"
      ]
     },
     "metadata": {},
     "output_type": "display_data"
    }
   ],
   "source": [
    "sns.set(color_codes=True)\n",
    "plt.figure(figsize=(12, 8))\n",
    "sns.distplot(precip, bins=20) #blue line\n",
    "sns.distplot(no_precip, bins=20); #orange line"
   ]
  },
  {
   "cell_type": "code",
   "execution_count": 123,
   "metadata": {},
   "outputs": [
    {
     "name": "stdout",
     "output_type": "stream",
     "text": [
      "The t-stat is 1.414 and the the p value is 0.157.\n"
     ]
    }
   ],
   "source": [
    "t_stat_weather, p_value_weather = stats.ttest_ind(precip, no_precip, equal_var=False)\n",
    "print(\"The t-stat is {} and the the p value is {}.\".format(round(t_stat_weather, 3), round(p_value_weather, 3)))      "
   ]
  },
  {
   "cell_type": "code",
   "execution_count": 143,
   "metadata": {},
   "outputs": [
    {
     "data": {
      "text/plain": [
       "1.96"
      ]
     },
     "execution_count": 143,
     "metadata": {},
     "output_type": "execute_result"
    }
   ],
   "source": [
    "#calculating critical value\n",
    "deg_weather = len(precip) + len(no_precip) - 2\n",
    "t_critical_weather = np.round(stats.t.ppf(1 - 0.025, df=deg_week),4)\n",
    "t_critical_weather"
   ]
  },
  {
   "cell_type": "code",
   "execution_count": 144,
   "metadata": {},
   "outputs": [
    {
     "data": {
      "image/png": "[encoded data removed]",
      "text/plain": [
       "<Figure size 576x360 with 1 Axes>"
      ]
     },
     "metadata": {},
     "output_type": "display_data"
    }
   ],
   "source": [
    "xs = np.linspace(-5, 5, 200)\n",
    "ys = stats.t.pdf(xs, deg_weather, 0, 1)\n",
    "\n",
    "fig = plt.figure(figsize=(8,5))\n",
    "\n",
    "ax = fig.gca()\n",
    "\n",
    "ax.plot(xs, ys, linewidth=3, color='darkblue')\n",
    "\n",
    "ax.axvline(t_stat_weather, color='red', linestyle='--', lw=3,label='t-stat')\n",
    "\n",
    "ax.axvline(t_critical_weather,color='green',linestyle='--',lw=3,label='critical t-value')\n",
    "\n",
    "ax.fill_betweenx(ys,xs,t_critical_weather,where = xs > t_critical_weather, color = 'purple')\n",
    "\n",
    "ax.legend()\n",
    "plt.show()"
   ]
  },
  {
   "cell_type": "markdown",
   "metadata": {},
   "source": [
    "### I may have failed to reject the null hypothesis, however I would like to point out these 4 outliers of shame."
   ]
  },
  {
   "cell_type": "code",
   "execution_count": 145,
   "metadata": {},
   "outputs": [
    {
     "data": {
      "text/html": [
       "<div>\n",
       "<style scoped>\n",
       "    .dataframe tbody tr th:only-of-type {\n",
       "        vertical-align: middle;\n",
       "    }\n",
       "\n",
       "    .dataframe tbody tr th {\n",
       "        vertical-align: top;\n",
       "    }\n",
       "\n",
       "    .dataframe thead th {\n",
       "        text-align: right;\n",
       "    }\n",
       "</style>\n",
       "<table border=\"1\" class=\"dataframe\">\n",
       "  <thead>\n",
       "    <tr style=\"text-align: right;\">\n",
       "      <th></th>\n",
       "      <th>CAMIS</th>\n",
       "      <th>DBA</th>\n",
       "      <th>BORO</th>\n",
       "      <th>ZIPCODE</th>\n",
       "      <th>PHONE</th>\n",
       "      <th>CUISINE DESCRIPTION</th>\n",
       "      <th>SCORE</th>\n",
       "      <th>GRADE</th>\n",
       "      <th>GRADE DATE</th>\n",
       "      <th>INSPECTION TYPE</th>\n",
       "      <th>inspection_date</th>\n",
       "      <th>ADDRESS</th>\n",
       "      <th>Weather</th>\n",
       "      <th>DAY OF WEEK</th>\n",
       "      <th>weather_binary</th>\n",
       "    </tr>\n",
       "  </thead>\n",
       "  <tbody>\n",
       "    <tr>\n",
       "      <th>58163</th>\n",
       "      <td>50046375</td>\n",
       "      <td>ICHIBA RAMEN</td>\n",
       "      <td>MANHATTAN</td>\n",
       "      <td>10003.0</td>\n",
       "      <td>2127772495</td>\n",
       "      <td>Japanese</td>\n",
       "      <td>166.0</td>\n",
       "      <td>NaN</td>\n",
       "      <td>NaN</td>\n",
       "      <td>Cycle Inspection / Initial Inspection</td>\n",
       "      <td>2019-04-25</td>\n",
       "      <td>125 UNIVERSITY PL</td>\n",
       "      <td>rain</td>\n",
       "      <td>Thursday</td>\n",
       "      <td>1</td>\n",
       "    </tr>\n",
       "    <tr>\n",
       "      <th>60578</th>\n",
       "      <td>50050373</td>\n",
       "      <td>MARGARITA ISLAND</td>\n",
       "      <td>BROOKLYN</td>\n",
       "      <td>11224.0</td>\n",
       "      <td>7184491284</td>\n",
       "      <td>Bottled beverages, including water, sodas, jui...</td>\n",
       "      <td>151.0</td>\n",
       "      <td>NaN</td>\n",
       "      <td>NaN</td>\n",
       "      <td>Pre-permit (Operational) / Initial Inspection</td>\n",
       "      <td>2017-07-20</td>\n",
       "      <td>1105 BOWERY ST</td>\n",
       "      <td>rain</td>\n",
       "      <td>Thursday</td>\n",
       "      <td>1</td>\n",
       "    </tr>\n",
       "    <tr>\n",
       "      <th>68136</th>\n",
       "      <td>50061507</td>\n",
       "      <td>BICKLES 2 GO</td>\n",
       "      <td>BRONX</td>\n",
       "      <td>10451.0</td>\n",
       "      <td>3479634184</td>\n",
       "      <td>Caribbean</td>\n",
       "      <td>164.0</td>\n",
       "      <td>NaN</td>\n",
       "      <td>NaN</td>\n",
       "      <td>Cycle Inspection / Initial Inspection</td>\n",
       "      <td>2019-05-08</td>\n",
       "      <td>647 COURTLANDT AVE</td>\n",
       "      <td>rain</td>\n",
       "      <td>Wednesday</td>\n",
       "      <td>1</td>\n",
       "    </tr>\n",
       "    <tr>\n",
       "      <th>78642</th>\n",
       "      <td>50075349</td>\n",
       "      <td>KAY'S BOUTIQUE CAFE</td>\n",
       "      <td>MANHATTAN</td>\n",
       "      <td>10012.0</td>\n",
       "      <td>3479347940</td>\n",
       "      <td>CafÃ©/Coffee/Tea</td>\n",
       "      <td>155.0</td>\n",
       "      <td>NaN</td>\n",
       "      <td>NaN</td>\n",
       "      <td>Pre-permit (Operational) / Initial Inspection</td>\n",
       "      <td>2018-04-25</td>\n",
       "      <td>240 MULBERRY ST</td>\n",
       "      <td>rain</td>\n",
       "      <td>Wednesday</td>\n",
       "      <td>1</td>\n",
       "    </tr>\n",
       "  </tbody>\n",
       "</table>\n",
       "</div>"
      ],
      "text/plain": [
       "          CAMIS                  DBA       BORO  ZIPCODE       PHONE  \\\n",
       "58163  50046375         ICHIBA RAMEN  MANHATTAN  10003.0  2127772495   \n",
       "60578  50050373     MARGARITA ISLAND   BROOKLYN  11224.0  7184491284   \n",
       "68136  50061507         BICKLES 2 GO      BRONX  10451.0  3479634184   \n",
       "78642  50075349  KAY'S BOUTIQUE CAFE  MANHATTAN  10012.0  3479347940   \n",
       "\n",
       "                                     CUISINE DESCRIPTION  SCORE GRADE  \\\n",
       "58163                                           Japanese  166.0   NaN   \n",
       "60578  Bottled beverages, including water, sodas, jui...  151.0   NaN   \n",
       "68136                                          Caribbean  164.0   NaN   \n",
       "78642                                   CafÃ©/Coffee/Tea  155.0   NaN   \n",
       "\n",
       "      GRADE DATE                                INSPECTION TYPE  \\\n",
       "58163        NaN          Cycle Inspection / Initial Inspection   \n",
       "60578        NaN  Pre-permit (Operational) / Initial Inspection   \n",
       "68136        NaN          Cycle Inspection / Initial Inspection   \n",
       "78642        NaN  Pre-permit (Operational) / Initial Inspection   \n",
       "\n",
       "      inspection_date             ADDRESS Weather DAY OF WEEK  weather_binary  \n",
       "58163      2019-04-25   125 UNIVERSITY PL    rain    Thursday               1  \n",
       "60578      2017-07-20      1105 BOWERY ST    rain    Thursday               1  \n",
       "68136      2019-05-08  647 COURTLANDT AVE    rain   Wednesday               1  \n",
       "78642      2018-04-25     240 MULBERRY ST    rain   Wednesday               1  "
      ]
     },
     "execution_count": 145,
     "metadata": {},
     "output_type": "execute_result"
    }
   ],
   "source": [
    "df[df['SCORE'] > 150] #outliers of shame... and it's raining "
   ]
  },
  {
   "cell_type": "markdown",
   "metadata": {},
   "source": [
    "## Question 2:\n",
    "#### Are NYC resaurants more likely to get to be cited for a greater number of infractions at the beginning of the week?\n",
    "Ho: Day of week has no effect of inspection score.\n",
    "\n",
    "Ha: Higher inspection scores are given at the beginning of the week. "
   ]
  },
  {
   "cell_type": "code",
   "execution_count": 61,
   "metadata": {},
   "outputs": [],
   "source": [
    "#create new data frame with score and day of the week\n",
    "days_df = df[['SCORE','DAY OF WEEK']]\n",
    "#seperate out and create 2 more data frames. One for Monday/Tuesday, one for Thursday/Friday\n",
    "mon = days_df[days_df['DAY OF WEEK'] == 'Monday']\n",
    "tues = days_df[days_df['DAY OF WEEK'] == 'Tuesday']\n",
    "thurs = days_df[days_df['DAY OF WEEK'] == 'Thursday']\n",
    "fri = days_df[days_df['DAY OF WEEK'] == 'Friday']"
   ]
  },
  {
   "cell_type": "code",
   "execution_count": 109,
   "metadata": {},
   "outputs": [],
   "source": [
    "mon_tues = pd.concat([mon, tues])\n",
    "thurs_fri = pd.concat([thurs, fri])"
   ]
  },
  {
   "cell_type": "code",
   "execution_count": 111,
   "metadata": {},
   "outputs": [],
   "source": [
    "#turn the scores in each data frame into a numpy array \n",
    "montue = np.array(mon_tues['SCORE'])\n",
    "thurfri = np.array(thurs_fri['SCORE'])"
   ]
  },
  {
   "cell_type": "code",
   "execution_count": 115,
   "metadata": {},
   "outputs": [
    {
     "name": "stdout",
     "output_type": "stream",
     "text": [
      "The mean inspection score for Monday's and Tuesday's is  15.564\n",
      "With a standard deviation of  11.671\n"
     ]
    }
   ],
   "source": [
    "print(\"The mean inspection score for Monday's and Tuesday's is \", round(montue.mean(), 3))\n",
    "print(\"With a standard deviation of \", round(montue.std(), 3))"
   ]
  },
  {
   "cell_type": "code",
   "execution_count": 116,
   "metadata": {},
   "outputs": [
    {
     "name": "stdout",
     "output_type": "stream",
     "text": [
      "The mean inspection score for Thursday's and Friday's is  15.356\n",
      "With a standard deviation of  11.794\n"
     ]
    }
   ],
   "source": [
    "print(\"The mean inspection score for Thursday's and Friday's is \", round(thurfri.mean(), 3))\n",
    "print(\"With a standard deviation of \", round(thurfri.std(), 3))"
   ]
  },
  {
   "cell_type": "code",
   "execution_count": 120,
   "metadata": {},
   "outputs": [
    {
     "data": {
      "image/png": "[encoded data removed]",
      "text/plain": [
       "<Figure size 864x576 with 1 Axes>"
      ]
     },
     "metadata": {},
     "output_type": "display_data"
    }
   ],
   "source": [
    "plt.figure(figsize=(12, 8))\n",
    "sns.distplot(montue, bins=20) #blue line\n",
    "sns.distplot(thurfri, bins=20); #orange line"
   ]
  },
  {
   "cell_type": "code",
   "execution_count": 134,
   "metadata": {},
   "outputs": [
    {
     "name": "stdout",
     "output_type": "stream",
     "text": [
      "The t-stat is 2.213 and the the p value is 0.0269.\n"
     ]
    }
   ],
   "source": [
    "t_stat_week, p_value_week = stats.ttest_ind(montue, thurfri, equal_var=False)\n",
    "print(\"The t-stat is {} and the the p value is {}.\".format(round(t_stat_day, 3), round(p_value_day, 4)))  "
   ]
  },
  {
   "cell_type": "code",
   "execution_count": 142,
   "metadata": {},
   "outputs": [
    {
     "data": {
      "text/plain": [
       "1.6449"
      ]
     },
     "execution_count": 142,
     "metadata": {},
     "output_type": "execute_result"
    }
   ],
   "source": [
    "#calculating critical value\n",
    "deg_week = len(montue) + len(thurfri) - 2\n",
    "t_critical_week = np.round(stats.t.ppf(1 - 0.05, df=deg_week),4)\n",
    "t_critical_week"
   ]
  },
  {
   "cell_type": "code",
   "execution_count": 139,
   "metadata": {},
   "outputs": [
    {
     "data": {
      "image/png": "[encoded data removed]",
      "text/plain": [
       "<Figure size 576x360 with 1 Axes>"
      ]
     },
     "metadata": {},
     "output_type": "display_data"
    }
   ],
   "source": [
    "xs = np.linspace(-5, 5, 200)\n",
    "ys = stats.t.pdf(xs, deg_week, 0, 1)\n",
    "\n",
    "fig = plt.figure(figsize=(8,5))\n",
    "\n",
    "ax = fig.gca()\n",
    "\n",
    "ax.plot(xs, ys, linewidth=3, color='darkblue')\n",
    "\n",
    "ax.axvline(t_stat_week, color='red', linestyle='--', lw=3,label='t-stat')\n",
    "\n",
    "ax.axvline(t_critical_week,color='green',linestyle='--',lw=3,label='critical t-value')\n",
    "\n",
    "ax.fill_betweenx(ys,xs,t_critical_week,where = xs > t_critical_week, color = 'purple')\n",
    "\n",
    "ax.legend()\n",
    "plt.show()"
   ]
  },
  {
   "cell_type": "markdown",
   "metadata": {},
   "source": [
    "#### The critical value is less than the t-statistic and out p-value is less than 0.05 so we are able to reject the null hypothesis"
   ]
  },
  {
   "cell_type": "code",
   "execution_count": null,
   "metadata": {},
   "outputs": [],
   "source": []
  }
 ],
 "metadata": {
  "kernelspec": {
   "display_name": "Python 3",
   "language": "python",
   "name": "python3"
  },
  "language_info": {
   "codemirror_mode": {
    "name": "ipython",
    "version": 3
   },
   "file_extension": ".py",
   "mimetype": "text/x-python",
   "name": "python",
   "nbconvert_exporter": "python",
   "pygments_lexer": "ipython3",
   "version": "3.6.8"
  }
 },
 "nbformat": 4,
 "nbformat_minor": 2
}
